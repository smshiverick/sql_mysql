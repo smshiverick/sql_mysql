{
 "cells": [
  {
   "cell_type": "markdown",
   "metadata": {},
   "source": [
    "# Installing and Using `SQL` in Python\n",
    "https://www.sqlite.org/cli.html\n",
    "https://www.python-course.eu/sql_python.php\n",
    "\n",
    "\n",
    "## Import `sqlite` and create connection to database\n",
    "* To use a database, first create connection object to represents the database. \n",
    "* The argument of connection (\"examples.db\") functions both as the name of the file, where the data will be stored, and the name of the database. \n",
    "* If a file with this name exists (SQLite database file) it will be opened, but the file does not have to exist.: "
   ]
  },
  {
   "cell_type": "code",
   "execution_count": 1,
   "metadata": {
    "collapsed": true
   },
   "outputs": [],
   "source": [
    "import sqlite3 as sqlt\n",
    "connection = sqlt.connect(\"examples.db\")\n",
    "cursor = connection.cursor()"
   ]
  },
  {
   "cell_type": "markdown",
   "metadata": {},
   "source": [
    "## Call the cursor() method of connection. \n",
    "Generally, a cursor in SQL and databases is a control structure to traverse over the records in a database and returning results. \n",
    "* An arbitrary number of cursors can be created. \n",
    "* The cursor raverses the records from the result set. \n",
    "* SQL command is defined with a triple quoted string in Python:"
   ]
  },
  {
   "cell_type": "code",
   "execution_count": 3,
   "metadata": {},
   "outputs": [
    {
     "data": {
      "text/plain": [
       "<sqlite3.Cursor at 0x111eaf1f0>"
      ]
     },
     "execution_count": 3,
     "metadata": {},
     "output_type": "execute_result"
    }
   ],
   "source": [
    "# Drop the table, if it already exists in examples.db \n",
    "cursor.execute(\"\"\"DROP TABLE family_members;\"\"\")"
   ]
  },
  {
   "cell_type": "code",
   "execution_count": 4,
   "metadata": {},
   "outputs": [
    {
     "data": {
      "text/plain": [
       "<sqlite3.Cursor at 0x111eaf1f0>"
      ]
     },
     "execution_count": 4,
     "metadata": {},
     "output_type": "execute_result"
    }
   ],
   "source": [
    "sql_command = \"\"\"\n",
    "CREATE TABLE family_members ( \n",
    "id INTEGER PRIMARY KEY, \n",
    "name VARCHAR(10), \n",
    "gender VARCHAR(10), \n",
    "species VARCHAR(10), \n",
    "num_books_read CHAR(3) );\"\"\"\n",
    "\n",
    "cursor.execute(sql_command)"
   ]
  },
  {
   "cell_type": "markdown",
   "metadata": {},
   "source": [
    "# Use 'INSERT' command to populate the table. \n",
    "* Again using the execute method, adding single rows one at a time...\n",
    "* To run the program you will either have to remove the file company.db or uncomment the \"DROP TABLE\" line in the SQL command: "
   ]
  },
  {
   "cell_type": "code",
   "execution_count": null,
   "metadata": {},
   "outputs": [],
   "source": [
    "sql_command = \"\"\"INSERT INTO family_members (id, name, gender, species, num_books_read)\n",
    "    VALUES (1, 'Dave', 'male', 'human', 200);\"\"\"\n",
    "cursor.execute(sql_command)\n",
    "\n",
    "sql_command = \"\"\"INSERT INTO family_members (id, name, gender, species, num_books_read)\n",
    "    VALUES (2, 'Mary', 'female', 'human', 180);\"\"\"\n",
    "cursor.execute(sql_command)\n",
    "\n",
    "# Run the COMMIT command to save changes:\n",
    "connection.commit()\n",
    "\n",
    "#connection.close()"
   ]
  },
  {
   "cell_type": "markdown",
   "metadata": {},
   "source": [
    "## Use data from dict or list as input to insert statement. \n",
    "* A list with data of persons to be used in the INSERT statement:"
   ]
  },
  {
   "cell_type": "code",
   "execution_count": 5,
   "metadata": {},
   "outputs": [],
   "source": [
    "fam_data = [ (1, 'Dave', 'male', 'human', 200),\n",
    "               (2, 'Mary', 'female', 'human', 180),\n",
    "               (3, 'Pickles', 'male', 'dog', 0) ]\n",
    "               \n",
    "for p in fam_data:\n",
    "    format_str = \"\"\"INSERT INTO family_members (id, name, gender, species, num_books_read)\n",
    "    VALUES (NULL, '{name}', '{gender}', '{species}', '{num_books_read}');\"\"\"\n",
    "\n",
    "    sql_command = format_str.format(id=p[0],name=p[1], gender=p[2], species=p[3],num_books_read=p[4])\n",
    "    cursor.execute(sql_command)"
   ]
  },
  {
   "cell_type": "markdown",
   "metadata": {},
   "source": [
    "## Examples and Exercises from SQL Teaching\n",
    "https://www.sqlteaching.com/#!select"
   ]
  },
  {
   "cell_type": "markdown",
   "metadata": {},
   "source": [
    "## Use SELECT command to query sql table\n",
    "* Asteryx selects all columns from table: `SELECT * FROM family_members`\n",
    "* First, iterating over, selecting all columns and all rows, "
   ]
  },
  {
   "cell_type": "code",
   "execution_count": 8,
   "metadata": {},
   "outputs": [
    {
     "name": "stdout",
     "output_type": "stream",
     "text": [
      "fetchall:\n",
      "(1, 'Dave', 'male', 'human', '200')\n",
      "(2, 'Mary', 'female', 'human', '180')\n",
      "(3, 'Pickles', 'male', 'dog', '0')\n"
     ]
    }
   ],
   "source": [
    "cursor.execute(\"\"\"SELECT * FROM family_members\"\"\")\n",
    "print(\"fetchall:\")\n",
    "result = cursor.fetchall() \n",
    "for r in result:\n",
    "    print(r)"
   ]
  },
  {
   "cell_type": "markdown",
   "metadata": {},
   "source": [
    "### Select specific columns indicated in query"
   ]
  },
  {
   "cell_type": "code",
   "execution_count": 11,
   "metadata": {},
   "outputs": [
    {
     "name": "stdout",
     "output_type": "stream",
     "text": [
      "('Dave', '200')\n",
      "('Mary', '180')\n",
      "('Pickles', '0')\n"
     ]
    }
   ],
   "source": [
    "cursor.execute(\"SELECT name, num_books_read FROM family_members\") \n",
    "result = cursor.fetchall() \n",
    "for r in result:\n",
    "    print(r)"
   ]
  },
  {
   "cell_type": "markdown",
   "metadata": {},
   "source": [
    "## Use WHERE keyword to select rows by given feature"
   ]
  },
  {
   "cell_type": "code",
   "execution_count": 12,
   "metadata": {},
   "outputs": [
    {
     "name": "stdout",
     "output_type": "stream",
     "text": [
      "(3, 'Pickles', 'male', 'dog', '0')\n"
     ]
    }
   ],
   "source": [
    "cursor.execute(\"SELECT * FROM family_members WHERE species = 'dog'\") \n",
    "res = cursor.fetchone() \n",
    "print(res)"
   ]
  },
  {
   "cell_type": "markdown",
   "metadata": {},
   "source": [
    "### Use Boolean with WHERE command to select rows "
   ]
  },
  {
   "cell_type": "code",
   "execution_count": 14,
   "metadata": {},
   "outputs": [
    {
     "name": "stdout",
     "output_type": "stream",
     "text": [
      "(1, 'Dave', 'male', 'human', '200')\n",
      "(2, 'Mary', 'female', 'human', '180')\n"
     ]
    }
   ],
   "source": [
    "cursor.execute(\"SELECT * FROM family_members WHERE num_books_read > 0\") \n",
    "result = cursor.fetchall() \n",
    "for r in result:\n",
    "    print(r)"
   ]
  },
  {
   "cell_type": "markdown",
   "metadata": {},
   "source": [
    "### Return all rows where num_books_read is greater or equal to 180?\n",
    "SQL accepts various inequality symbols, including: \n",
    "* \"greater than\" `>` \n",
    "* \"greater than or equal to\" `>=` \n",
    "* \"less than\" `<` \n",
    "* \"less than or equal to\" `<=` "
   ]
  },
  {
   "cell_type": "code",
   "execution_count": 16,
   "metadata": {},
   "outputs": [
    {
     "name": "stdout",
     "output_type": "stream",
     "text": [
      "(1, 'Dave', 'male', 'human', '200')\n",
      "(2, 'Mary', 'female', 'human', '180')\n"
     ]
    }
   ],
   "source": [
    "cursor.execute(\"SELECT * FROM family_members WHERE num_books_read >= 180\") \n",
    "result = cursor.fetchall() \n",
    "for r in result:\n",
    "    print(r)"
   ]
  },
  {
   "cell_type": "markdown",
   "metadata": {},
   "source": [
    "## Use AND / OR keywords to query by multiple attributes\n",
    "* Create new table, and populate from list\n",
    "* Create compound query with two search criteria\n",
    "* Return entries  in height and are cats"
   ]
  },
  {
   "cell_type": "code",
   "execution_count": 60,
   "metadata": {},
   "outputs": [
    {
     "data": {
      "text/plain": [
       "<sqlite3.Cursor at 0x111eaf1f0>"
      ]
     },
     "execution_count": 60,
     "metadata": {},
     "output_type": "execute_result"
    }
   ],
   "source": [
    "# Drop the table, if it already exists in examples.db \n",
    "cursor.execute(\"\"\"DROP TABLE friends_of_pickles;\"\"\")"
   ]
  },
  {
   "cell_type": "code",
   "execution_count": 61,
   "metadata": {},
   "outputs": [],
   "source": [
    "sql_command = \"\"\"\n",
    "CREATE TABLE friends_of_pickles ( \n",
    "id INTEGER PRIMARY KEY, \n",
    "name VARCHAR(10), \n",
    "gender VARCHAR(10), \n",
    "species VARCHAR(10), \n",
    "height_cm CHAR(5) );\"\"\"\n",
    "\n",
    "cursor.execute(sql_command)\n",
    "\n",
    "fam_data = [ (1, 'Dave', 'male', 'human', 180),\n",
    "             (2, 'Mary', 'female', 'human', 160),\n",
    "             (3, 'Fry', 'male', 'cat', 30), \n",
    "             (3, 'Leela', 'female', 'cat', 25),\n",
    "             (3, 'Odie', 'male', 'dog', 40),\n",
    "             (3, 'Jumpy', 'male', 'dog', 35),\n",
    "             (3, 'Sneakers', 'male', 'dog', 55)]\n",
    "               \n",
    "for p in fam_data:\n",
    "    format_str = \"\"\"INSERT INTO friends_of_pickles (id, name, gender, species, height_cm)\n",
    "    VALUES (NULL, '{name}', '{gender}', '{species}', '{height_cm}');\"\"\"\n",
    "\n",
    "    sql_command = format_str.format(id=p[0],name=p[1], gender=p[2], species=p[3], height_cm=p[4])\n",
    "    cursor.execute(sql_command)"
   ]
  },
  {
   "cell_type": "code",
   "execution_count": 62,
   "metadata": {},
   "outputs": [
    {
     "name": "stdout",
     "output_type": "stream",
     "text": [
      "(5, 'Odie', 'male', 'dog', '40')\n",
      "(6, 'Jumpy', 'male', 'dog', '35')\n"
     ]
    }
   ],
   "source": [
    "cursor.execute(\"SELECT * FROM friends_of_pickles WHERE species='dog' AND height_cm < 45\")\n",
    "result = cursor.fetchall() \n",
    "for r in result:\n",
    "    print(r)"
   ]
  },
  {
   "cell_type": "code",
   "execution_count": 64,
   "metadata": {},
   "outputs": [
    {
     "name": "stdout",
     "output_type": "stream",
     "text": [
      "(5, 'Odie', 'male', 'dog', '40')\n",
      "(6, 'Jumpy', 'male', 'dog', '35')\n",
      "(7, 'Sneakers', 'male', 'dog', '55')\n"
     ]
    }
   ],
   "source": [
    "# species='dog' OR height_cm < 50\n",
    "\n",
    "cursor.execute(\"SELECT * FROM friends_of_pickles WHERE species='dog'\")  \n",
    "result = cursor.fetchall() \n",
    "for r in result:\n",
    "    print(r)"
   ]
  },
  {
   "cell_type": "code",
   "execution_count": null,
   "metadata": {
    "collapsed": true
   },
   "outputs": [],
   "source": []
  },
  {
   "cell_type": "code",
   "execution_count": null,
   "metadata": {
    "collapsed": true
   },
   "outputs": [],
   "source": []
  },
  {
   "cell_type": "code",
   "execution_count": null,
   "metadata": {
    "collapsed": true
   },
   "outputs": [],
   "source": []
  },
  {
   "cell_type": "code",
   "execution_count": null,
   "metadata": {
    "collapsed": true
   },
   "outputs": [],
   "source": [
    "### Close the SQLite connection at end of the session\n",
    "connection.close()"
   ]
  },
  {
   "cell_type": "code",
   "execution_count": null,
   "metadata": {
    "collapsed": true
   },
   "outputs": [],
   "source": []
  },
  {
   "cell_type": "code",
   "execution_count": null,
   "metadata": {
    "collapsed": true
   },
   "outputs": [],
   "source": []
  },
  {
   "cell_type": "code",
   "execution_count": null,
   "metadata": {
    "collapsed": true
   },
   "outputs": [],
   "source": []
  },
  {
   "cell_type": "code",
   "execution_count": null,
   "metadata": {
    "collapsed": true
   },
   "outputs": [],
   "source": []
  },
  {
   "cell_type": "code",
   "execution_count": null,
   "metadata": {
    "collapsed": true
   },
   "outputs": [],
   "source": []
  },
  {
   "cell_type": "code",
   "execution_count": null,
   "metadata": {
    "collapsed": true
   },
   "outputs": [],
   "source": []
  },
  {
   "cell_type": "code",
   "execution_count": null,
   "metadata": {
    "collapsed": true
   },
   "outputs": [],
   "source": []
  },
  {
   "cell_type": "markdown",
   "metadata": {},
   "source": [
    "<br>\n",
    "## Using MySQL in Python\n",
    "* MySQLdb does not support Python 3 but it is not the only MySQL driver for Python: https://stackoverflow.com/questions/23376103/python-3-4-0-with-mysql-database\n",
    "* `PyMySQL` is a pure python MySQL driver, which means it is slower, but it does not require a compiled C component or MySQL libraries and header files to be installed on client machines. It has Python 3 support.\n",
    "* Install pymysql in the terminal shell: `python3 -m pip install pymysql`\n",
    "\n",
    "import pymysql\n",
    "import pymysql.cursors\n",
    "\n",
    "# Connect to database\n",
    "connection = pmsql.connect (host='localhost',\n",
    "                            user='root',\n",
    "                            db = 'examples')\n",
    "\n",
    "cursor = connection.cursor()\n",
    "cursor.execute (\"SELECT*FROM examples;\")\n",
    "\n",
    "print(\"cursor.description\", cursor.description)\n",
    "print()\n",
    "cursor.close()\n",
    "\n",
    "#connection.close()"
   ]
  }
 ],
 "metadata": {
  "kernelspec": {
   "display_name": "Python 3",
   "language": "python",
   "name": "python3"
  },
  "language_info": {
   "codemirror_mode": {
    "name": "ipython",
    "version": 3
   },
   "file_extension": ".py",
   "mimetype": "text/x-python",
   "name": "python",
   "nbconvert_exporter": "python",
   "pygments_lexer": "ipython3",
   "version": "3.6.1"
  }
 },
 "nbformat": 4,
 "nbformat_minor": 2
}
