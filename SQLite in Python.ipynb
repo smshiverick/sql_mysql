{
 "cells": [
  {
   "cell_type": "markdown",
   "metadata": {},
   "source": [
    "# Installing and Using `SQL` in Python\n",
    "* NOTE: Some queries in python sqlite varied from typical operations: `OR`,`DESC`\n",
    "* https://www.sqlite.org/cli.html\n",
    "* https://www.python-course.eu/sql_python.php\n",
    "\n",
    "\n",
    "## 1. Import `sqlite` and create connection to database\n",
    "* To use a database, first create connection object to represents the database. \n",
    "* The argument of connection (\"examples.db\") functions both as the name of the file, where the data will be stored, and the name of the database. \n",
    "* If a file with this name exists (SQLite database file) it will be opened, but the file does not have to exist.: "
   ]
  },
  {
   "cell_type": "code",
   "execution_count": 1,
   "metadata": {
    "collapsed": true
   },
   "outputs": [],
   "source": [
    "import sqlite3 as sqlt\n",
    "connection = sqlt.connect(\"examples.db\")\n",
    "cursor = connection.cursor()"
   ]
  },
  {
   "cell_type": "markdown",
   "metadata": {},
   "source": [
    "## 1.1 Call the cursor() method of connection. \n",
    "Generally, a cursor in SQL and databases is a control structure to traverse over the records in a database and returning results. \n",
    "* An arbitrary number of cursors can be created. \n",
    "* The cursor raverses the records from the result set. \n",
    "* SQL command is defined with a triple quoted string in Python:"
   ]
  },
  {
   "cell_type": "code",
   "execution_count": 2,
   "metadata": {},
   "outputs": [
    {
     "data": {
      "text/plain": [
       "<sqlite3.Cursor at 0x10887f180>"
      ]
     },
     "execution_count": 2,
     "metadata": {},
     "output_type": "execute_result"
    }
   ],
   "source": [
    "# Drop the table, if it already exists in examples.db \n",
    "cursor.execute(\"DROP TABLE family_members;\")"
   ]
  },
  {
   "cell_type": "markdown",
   "metadata": {},
   "source": [
    "# 2. Create a Table with Attributes, execute command"
   ]
  },
  {
   "cell_type": "code",
   "execution_count": 3,
   "metadata": {},
   "outputs": [
    {
     "data": {
      "text/plain": [
       "<sqlite3.Cursor at 0x10887f180>"
      ]
     },
     "execution_count": 3,
     "metadata": {},
     "output_type": "execute_result"
    }
   ],
   "source": [
    "sql_command = \"\"\"\n",
    "CREATE TABLE family_members ( \n",
    "id INTEGER PRIMARY KEY, \n",
    "name VARCHAR(10), \n",
    "gender VARCHAR(10), \n",
    "species VARCHAR(10), \n",
    "num_books_read CHAR(3), \n",
    "favorite_book VARCHAR(20) );\"\"\"\n",
    "\n",
    "cursor.execute(sql_command)"
   ]
  },
  {
   "cell_type": "markdown",
   "metadata": {},
   "source": [
    "## 2.1 Use 'INSERT' command to populate the table. \n",
    "* Again using the execute method, adding single rows one at a time...\n",
    "* To run the program you will either have to remove the file company.db or uncomment the \"DROP TABLE\" line in the SQL command: "
   ]
  },
  {
   "cell_type": "code",
   "execution_count": null,
   "metadata": {
    "collapsed": true
   },
   "outputs": [],
   "source": [
    "# To insert rows one at a time:\n",
    "\n",
    "#sql_command = \"\"\"INSERT INTO family_members (id, name, gender, species, num_books_read)\n",
    "#    VALUES (1, 'Dave', 'male', 'human', 200);\"\"\"\n",
    "#cursor.execute(sql_command)\n",
    "\n",
    "#sql_command = \"\"\"INSERT INTO family_members (id, name, gender, species, num_books_read)\n",
    "#    VALUES (2, 'Mary', 'female', 'human', 180);\"\"\"\n",
    "#cursor.execute(sql_command)\n",
    "\n",
    "# Run the COMMIT command to save changes:\n",
    "#connection.commit()\n",
    "\n",
    "#connection.close()"
   ]
  },
  {
   "cell_type": "markdown",
   "metadata": {},
   "source": [
    "## 2.2 Use data from dict or list as input to insert statement. \n",
    "* A list with data of persons to be used in the INSERT statement:"
   ]
  },
  {
   "cell_type": "code",
   "execution_count": 4,
   "metadata": {},
   "outputs": [],
   "source": [
    "fam_data = [ (1, 'Dave', 'male', 'human', 200, 'To Kill a Mockingbird'),\n",
    "               (2, 'Mary', 'female', 'human', 180, 'Gone with the Wind'),\n",
    "               (3, 'Pickles', 'male', 'dog', 0, '') ]\n",
    "               \n",
    "for p in fam_data:\n",
    "    format_str = \"\"\"INSERT INTO family_members (id, name, gender, species, num_books_read, favorite_book)\n",
    "    VALUES (NULL, '{name}', '{gender}', '{species}', '{num_books_read}', '{favorite_book}' );\"\"\"\n",
    "\n",
    "    sql_command = format_str.format(id=p[0],name=p[1],gender=p[2],species=p[3],num_books_read=p[4],favorite_book=p[5])\n",
    "    cursor.execute(sql_command)"
   ]
  },
  {
   "cell_type": "markdown",
   "metadata": {},
   "source": [
    "## Examples and Exercises from SQL Teaching\n",
    "https://www.sqlteaching.com/#!select"
   ]
  },
  {
   "cell_type": "markdown",
   "metadata": {},
   "source": [
    "# 3. Use SELECT command to query sql table\n",
    "* Asteryx selects all columns from table: `SELECT * FROM family_members`\n",
    "* First, iterating over, selecting all columns and all rows, "
   ]
  },
  {
   "cell_type": "code",
   "execution_count": 5,
   "metadata": {},
   "outputs": [
    {
     "name": "stdout",
     "output_type": "stream",
     "text": [
      "fetchall:\n",
      "(1, 'Dave', 'male', 'human', '200', 'To Kill a Mockingbird')\n",
      "(2, 'Mary', 'female', 'human', '180', 'Gone with the Wind')\n",
      "(3, 'Pickles', 'male', 'dog', '0', '')\n"
     ]
    }
   ],
   "source": [
    "cursor.execute(\"SELECT * FROM family_members;\")\n",
    "print(\"fetchall:\")\n",
    "result = cursor.fetchall() \n",
    "for r in result:\n",
    "    print(r)"
   ]
  },
  {
   "cell_type": "markdown",
   "metadata": {},
   "source": [
    "## 3.1 Select specific Columns in query"
   ]
  },
  {
   "cell_type": "code",
   "execution_count": 6,
   "metadata": {},
   "outputs": [
    {
     "name": "stdout",
     "output_type": "stream",
     "text": [
      "('Dave', '200')\n",
      "('Mary', '180')\n",
      "('Pickles', '0')\n"
     ]
    }
   ],
   "source": [
    "cursor.execute(\"SELECT name, num_books_read FROM family_members\") \n",
    "result = cursor.fetchall() \n",
    "for r in result:\n",
    "    print(r)"
   ]
  },
  {
   "cell_type": "markdown",
   "metadata": {},
   "source": [
    "# 4. Use WHERE keyword to select rows by given feature"
   ]
  },
  {
   "cell_type": "code",
   "execution_count": 7,
   "metadata": {},
   "outputs": [
    {
     "name": "stdout",
     "output_type": "stream",
     "text": [
      "(3, 'Pickles', 'male', 'dog', '0', '')\n"
     ]
    }
   ],
   "source": [
    "cursor.execute(\"SELECT * FROM family_members WHERE species = 'dog'\") \n",
    "res = cursor.fetchone() \n",
    "print(res)"
   ]
  },
  {
   "cell_type": "markdown",
   "metadata": {},
   "source": [
    "## 4.1 Use Boolean with WHERE command to select rows "
   ]
  },
  {
   "cell_type": "code",
   "execution_count": 8,
   "metadata": {},
   "outputs": [
    {
     "name": "stdout",
     "output_type": "stream",
     "text": [
      "(1, 'Dave', 'male', 'human', '200', 'To Kill a Mockingbird')\n",
      "(2, 'Mary', 'female', 'human', '180', 'Gone with the Wind')\n"
     ]
    }
   ],
   "source": [
    "cursor.execute(\"SELECT * FROM family_members WHERE num_books_read > 0\") \n",
    "result = cursor.fetchall() \n",
    "for r in result:\n",
    "    print(r)"
   ]
  },
  {
   "cell_type": "markdown",
   "metadata": {},
   "source": [
    "## 4.2 Return all rows where num_books_read is greater or equal to 180?\n",
    "SQL accepts various inequality symbols, including: \n",
    "* \"greater than\" `>` \n",
    "* \"greater than or equal to\" `>=` \n",
    "* \"less than\" `<` \n",
    "* \"less than or equal to\" `<=` "
   ]
  },
  {
   "cell_type": "code",
   "execution_count": 9,
   "metadata": {},
   "outputs": [
    {
     "name": "stdout",
     "output_type": "stream",
     "text": [
      "(1, 'Dave', 'male', 'human', '200', 'To Kill a Mockingbird')\n",
      "(2, 'Mary', 'female', 'human', '180', 'Gone with the Wind')\n"
     ]
    }
   ],
   "source": [
    "cursor.execute(\"SELECT * FROM family_members WHERE num_books_read >= 180\") \n",
    "result = cursor.fetchall() \n",
    "for r in result:\n",
    "    print(r)"
   ]
  },
  {
   "cell_type": "markdown",
   "metadata": {},
   "source": [
    "# 5. Use AND / OR keywords to query by multiple attributes\n",
    "* Create new table, and populate from list\n",
    "* Create compound query with two search criteria\n",
    "* Return entries  in height and are cats"
   ]
  },
  {
   "cell_type": "code",
   "execution_count": null,
   "metadata": {},
   "outputs": [],
   "source": [
    "# Drop the table, if it already exists in examples.db \n",
    "#cursor.execute(\"\"\"DROP TABLE friends_of_pickles;\"\"\")"
   ]
  },
  {
   "cell_type": "code",
   "execution_count": 10,
   "metadata": {
    "collapsed": true
   },
   "outputs": [],
   "source": [
    "sql_command = \"\"\"\n",
    "CREATE TABLE friends_of_pickles ( \n",
    "id INTEGER PRIMARY KEY, \n",
    "name VARCHAR(10), \n",
    "gender VARCHAR(10), \n",
    "species VARCHAR(10), \n",
    "height_cm CHAR(5) );\"\"\"\n",
    "\n",
    "cursor.execute(sql_command)\n",
    "\n",
    "fam_data = [ (1, 'Dave', 'male', 'human', 180),\n",
    "             (2, 'Mary', 'female', 'human', 160),\n",
    "             (3, 'Fry', 'male', 'cat', 30), \n",
    "             (3, 'Leela', 'female', 'cat', 25),\n",
    "             (3, 'Odie', 'male', 'dog', 40),\n",
    "             (3, 'Jumpy', 'male', 'dog', 35),\n",
    "             (3, 'Sneakers', 'male', 'dog', 55)]\n",
    "               \n",
    "for p in fam_data:\n",
    "    format_str = \"\"\"INSERT INTO friends_of_pickles (id, name, gender, species, height_cm)\n",
    "    VALUES (NULL, '{name}', '{gender}', '{species}', '{height_cm}');\"\"\"\n",
    "\n",
    "    sql_command = format_str.format(id=p[0],name=p[1], gender=p[2], species=p[3], height_cm=p[4])\n",
    "    cursor.execute(sql_command)"
   ]
  },
  {
   "cell_type": "markdown",
   "metadata": {},
   "source": [
    "## NOTE: `OR` command did not operate as expected in python sqlite instance"
   ]
  },
  {
   "cell_type": "code",
   "execution_count": 11,
   "metadata": {},
   "outputs": [
    {
     "name": "stdout",
     "output_type": "stream",
     "text": [
      "(5, 'Odie', 'male', 'dog', '40')\n",
      "(6, 'Jumpy', 'male', 'dog', '35')\n",
      "(7, 'Sneakers', 'male', 'dog', '55')\n"
     ]
    }
   ],
   "source": [
    "# species='dog' OR height_cm < 50\n",
    "\n",
    "cursor.execute(\"SELECT * FROM friends_of_pickles WHERE species='dog'\")  \n",
    "result = cursor.fetchall() \n",
    "for r in result:\n",
    "    print(r)"
   ]
  },
  {
   "cell_type": "code",
   "execution_count": 12,
   "metadata": {},
   "outputs": [
    {
     "name": "stdout",
     "output_type": "stream",
     "text": [
      "(5, 'Odie', 'male', 'dog', '40')\n",
      "(6, 'Jumpy', 'male', 'dog', '35')\n"
     ]
    }
   ],
   "source": [
    "cursor.execute(\"SELECT * FROM friends_of_pickles WHERE species='dog' AND height_cm < 45\")\n",
    "result = cursor.fetchall() \n",
    "for r in result:\n",
    "    print(r)"
   ]
  },
  {
   "cell_type": "markdown",
   "metadata": {
    "collapsed": true
   },
   "source": [
    "# 6. Query with `IN` to subset by rows\t\t\t\t\t\n",
    "https://www.sqlteaching.com/#!in \n",
    "* Use WHERE clause to find rows where a value is in a list of several possible values.\n",
    "* Following query returns the friends_of_pickles that are either a cat or a human.\n",
    "`SELECT * FROM friends_of_pickles WHERE species IN ('cat', 'human');` \n",
    "\n",
    "## 6.1 Use `NOT IN` to find rows that are not in a list \n",
    "* Run query to return rows that are not cats or dogs:"
   ]
  },
  {
   "cell_type": "code",
   "execution_count": 13,
   "metadata": {},
   "outputs": [
    {
     "name": "stdout",
     "output_type": "stream",
     "text": [
      "(1, 'Dave', 'male', 'human', '180')\n",
      "(2, 'Mary', 'female', 'human', '160')\n"
     ]
    }
   ],
   "source": [
    "cursor.execute(\"SELECT * FROM friends_of_pickles WHERE species NOT IN ('cat', 'dog')\")  \n",
    "result = cursor.fetchall() \n",
    "for r in result:\n",
    "    print(r)"
   ]
  },
  {
   "cell_type": "markdown",
   "metadata": {},
   "source": [
    "# 7. Use DISTINCT with SELECT, to remove duplicates. \n",
    "* Following query returns gender/species combinations of animals less than 100cm in height. \n",
    "* Even though there are multiple male dogs under that height, one row returns \"male\" and \"dog\".\n",
    "\n",
    "`SELECT DISTINCT gender, species FROM friends_of_pickles WHERE height_cm < 100`\n",
    "\n",
    "Write a query to return list of distinct species of animals greater than 50cm in height:\n",
    "\n",
    "`SELECT DISTINCT species FROM friends_of_pickles WHERE height_cm > 50`"
   ]
  },
  {
   "cell_type": "code",
   "execution_count": 14,
   "metadata": {},
   "outputs": [
    {
     "name": "stdout",
     "output_type": "stream",
     "text": [
      "('human',)\n",
      "('cat',)\n",
      "('dog',)\n"
     ]
    }
   ],
   "source": [
    "cursor.execute(\"SELECT DISTINCT species FROM friends_of_pickles\")  \n",
    "result = cursor.fetchall() \n",
    "for r in result:\n",
    "    print(r)"
   ]
  },
  {
   "cell_type": "markdown",
   "metadata": {},
   "source": [
    "# 8. Use `ORDER BY` to sort rows by attribute\n",
    "* To return friends_of_pickles sorted by name, in ascending alphabetical order.\n",
    "\n",
    "`SELECT * FROM friends_of_pickles ORDER BY name;` \n",
    "\n",
    "## 8.1 Add `DESC` at end of query to sort in descending order \n",
    "* Following query sorts `friends_of_pickles` by `height_cm` in descending order.\n",
    "* For some reason the jupyter notebook instance of SQLite is buggy\n",
    "\n",
    "`SELECT * FROM friends_of_pickles ORDER BY height_cm DESC;`\n",
    "\n",
    "## Note: Order not maintained in `ORDER BY` command, or `DESC`: "
   ]
  },
  {
   "cell_type": "code",
   "execution_count": 15,
   "metadata": {},
   "outputs": [
    {
     "name": "stdout",
     "output_type": "stream",
     "text": [
      "(2, 'Mary', 'female', 'human', '160')\n",
      "(1, 'Dave', 'male', 'human', '180')\n",
      "(4, 'Leela', 'female', 'cat', '25')\n",
      "(3, 'Fry', 'male', 'cat', '30')\n",
      "(6, 'Jumpy', 'male', 'dog', '35')\n",
      "(5, 'Odie', 'male', 'dog', '40')\n",
      "(7, 'Sneakers', 'male', 'dog', '55')\n"
     ]
    }
   ],
   "source": [
    "cursor.execute(\"SELECT * FROM friends_of_pickles ORDER BY height_cm\")  \n",
    "result = cursor.fetchall() \n",
    "for r in result:\n",
    "    print(r)"
   ]
  },
  {
   "cell_type": "markdown",
   "metadata": {},
   "source": [
    "# 9. Use `LIMIT` to restrict the number rows returned \n",
    "* To return a few examples of data in a tables with potentially millions of rows\n",
    "* Use `LIMIT` to select first few rows with . \n",
    "* Use `ORDER BY`, to get first rows for that order. \n",
    "\n",
    "`SELECT * FROM friends_of_pickles ORDER BY height_cm LIMIT 2;`\n",
    "\n",
    "Write a query to return the single row (and all columns) of tallest friends_of_pickles?\n",
    "\n",
    "### NOTE: Order was not maintained, DESC command did not work as expected.\n",
    "* Some versions of SQL do NOT use the LIMIT keyword.\n",
    "* The LIMIT keyword comes after the DESC keyword."
   ]
  },
  {
   "cell_type": "code",
   "execution_count": 16,
   "metadata": {},
   "outputs": [
    {
     "name": "stdout",
     "output_type": "stream",
     "text": [
      "(2, 'Mary', 'female', 'human', '160')\n",
      "(1, 'Dave', 'male', 'human', '180')\n"
     ]
    }
   ],
   "source": [
    "cursor.execute(\"SELECT * FROM friends_of_pickles ORDER BY height_cm LIMIT 2;\")  \n",
    "result = cursor.fetchall() \n",
    "for r in result:\n",
    "    print(r)"
   ]
  },
  {
   "cell_type": "markdown",
   "metadata": {},
   "source": [
    "## 10. `COUNT(*)` returns the number of rows in a table\n",
    "* Querying of a table states_of_us returns 50 rows\n",
    "* Following query returns total number of rows in table `friends_of_pickles`."
   ]
  },
  {
   "cell_type": "code",
   "execution_count": 17,
   "metadata": {},
   "outputs": [
    {
     "name": "stdout",
     "output_type": "stream",
     "text": [
      "(7,)\n"
     ]
    }
   ],
   "source": [
    "cursor.execute(\"SELECT COUNT(*) FROM friends_of_pickles;\")  \n",
    "result = cursor.fetchall() \n",
    "for r in result:\n",
    "    print(r)"
   ]
  },
  {
   "cell_type": "markdown",
   "metadata": {},
   "source": [
    "## 10.1 Combine `COUNT(*)` ... `WHERE`\n",
    "* Query returns the number of rows that match conditions of the WHERE clause.\n",
    "* Following query return the number of rows in friends_of_pickles where species is dog:"
   ]
  },
  {
   "cell_type": "code",
   "execution_count": 18,
   "metadata": {},
   "outputs": [
    {
     "name": "stdout",
     "output_type": "stream",
     "text": [
      "(3,)\n"
     ]
    }
   ],
   "source": [
    "cursor.execute(\"SELECT COUNT(*) FROM friends_of_pickles WHERE species = 'dog';\")  \n",
    "result = cursor.fetchall() \n",
    "for r in result:\n",
    "    print(r)"
   ]
  },
  {
   "cell_type": "markdown",
   "metadata": {
    "collapsed": true
   },
   "source": [
    "## 11.1 Simple Operations: `SUM` to add values in a table. \n",
    "* Query below returns the total `num_books_read` in the table 'family_members'"
   ]
  },
  {
   "cell_type": "code",
   "execution_count": 19,
   "metadata": {},
   "outputs": [
    {
     "name": "stdout",
     "output_type": "stream",
     "text": [
      "(380,)\n"
     ]
    }
   ],
   "source": [
    "cursor.execute(\"SELECT SUM(num_books_read) FROM family_members\")  \n",
    "result = cursor.fetchall() \n",
    "for r in result:\n",
    "    print(r)"
   ]
  },
  {
   "cell_type": "markdown",
   "metadata": {
    "collapsed": true
   },
   "source": [
    "## 11.2 Use AVG to find take average of values in a table. \n",
    "* Query below returns the average num_books_read made by each family member? \n",
    "* Note: Average will not always be exact due to how computers process numbers."
   ]
  },
  {
   "cell_type": "code",
   "execution_count": 20,
   "metadata": {},
   "outputs": [
    {
     "name": "stdout",
     "output_type": "stream",
     "text": [
      "(126.66666666666667,)\n"
     ]
    }
   ],
   "source": [
    "cursor.execute(\"SELECT AVG(num_books_read) FROM family_members\")  \n",
    "result = cursor.fetchall() \n",
    "for r in result:\n",
    "    print(r)"
   ]
  },
  {
   "cell_type": "markdown",
   "metadata": {},
   "source": [
    "## 11.3 Use MAX and MIN to return maximum or minimum value of a table. \n",
    "* Query below return the highest num_books_read that a family member makes"
   ]
  },
  {
   "cell_type": "code",
   "execution_count": 21,
   "metadata": {},
   "outputs": [
    {
     "name": "stdout",
     "output_type": "stream",
     "text": [
      "('200',)\n"
     ]
    }
   ],
   "source": [
    "cursor.execute(\"SELECT MAX(num_books_read) FROM family_members;\")  \n",
    "result = cursor.fetchall() \n",
    "for r in result:\n",
    "    print(r)"
   ]
  },
  {
   "cell_type": "markdown",
   "metadata": {},
   "source": [
    "# 12. Use `GROUP BY` to split the table according to row values\n",
    "* When you GROUP BY something, you split the table into different piles based on the value of each row. \n",
    "* Can use aggregate functions (COUNT, SUM, AVG, MAX, MIN) with `Group By`. \n",
    "* Query below returns the number of rows for each species.  \n",
    "\n",
    "`SELECT COUNT(*), species FROM friends_of_pickles GROUP BY species;` \n",
    "\n",
    "### Write a query to return the tallest height for each species, with species name next to the height: \n",
    "* Can create compoung query joining multiple keywords"
   ]
  },
  {
   "cell_type": "code",
   "execution_count": 22,
   "metadata": {},
   "outputs": [
    {
     "name": "stdout",
     "output_type": "stream",
     "text": [
      "('human', '180')\n",
      "('cat', '30')\n",
      "('dog', '55')\n"
     ]
    }
   ],
   "source": [
    "cursor.execute(\"SELECT species, MAX(height_cm) FROM friends_of_pickles GROUP BY species ORDER BY height_cm;\")  \n",
    "result = cursor.fetchall() \n",
    "for r in result:\n",
    "    print(r)"
   ]
  },
  {
   "cell_type": "markdown",
   "metadata": {},
   "source": [
    "# 13. Nested queries put one SQL query inside another SQL query. \n",
    "The query below returns the family members with the least number of legs:\n",
    "* First, the SELECT query inside parentheses is executed first, and returns the minimum number of legs. \n",
    "* Next, that value (2) is used in the outside query, to find all family members that have 2 legs.\n",
    "\n",
    "`SELECT * FROM family_members WHERE num_legs = (SELECT MIN(num_legs) FROM family_members);` \n",
    "\n",
    "Write a query to return the family members that have the highest num_books_read:"
   ]
  },
  {
   "cell_type": "code",
   "execution_count": 23,
   "metadata": {},
   "outputs": [
    {
     "name": "stdout",
     "output_type": "stream",
     "text": [
      "(1, 'Dave', 'male', 'human', '200', 'To Kill a Mockingbird')\n"
     ]
    }
   ],
   "source": [
    "cursor.execute(\"SELECT * FROM family_members WHERE num_books_read = (SELECT MAX(num_books_read) FROM family_members);\")  \n",
    "result = cursor.fetchall() \n",
    "for r in result:\n",
    "    print(r)"
   ]
  },
  {
   "cell_type": "markdown",
   "metadata": {},
   "source": [
    "## 13.1 Dealing with `NULL` values\n",
    "* Sometimesa given row, there is no value at all for a given column (e.g., no book loving dogs dogs)\n",
    "* E.g., no value in `favorite_book` column for dogs, which has the value `NULL`. \n",
    "* Use `IS NULL` or `IS NOT NULL` to find rows where the value for a column is or is not NULL.\n",
    "\n",
    "Write query to return all rows of `family_members` where `favorite_book` is not null (!=):"
   ]
  },
  {
   "cell_type": "code",
   "execution_count": 25,
   "metadata": {},
   "outputs": [
    {
     "name": "stdout",
     "output_type": "stream",
     "text": [
      "(1, 'Dave', 'male', 'human', '200', 'To Kill a Mockingbird')\n",
      "(2, 'Mary', 'female', 'human', '180', 'Gone with the Wind')\n",
      "(3, 'Pickles', 'male', 'dog', '0', '')\n"
     ]
    }
   ],
   "source": [
    "cursor.execute(\"SELECT * FROM family_members WHERE favorite_book IS NOT null;\")  \n",
    "result = cursor.fetchall() \n",
    "for r in result:\n",
    "    print(r)"
   ]
  },
  {
   "cell_type": "markdown",
   "metadata": {},
   "source": [
    "# 14. Dates and Years\n",
    "* A table column can contain a date value: `YYYY-MM-DD` \n",
    "* first 4 digits represents year, next 2 represents month, and 2 digits represents the day. \n",
    "* 1985-07-20 indicates July 20, 1985.\n",
    "\n",
    "### Create new Table for celebrity birthdates \n",
    "* Delete table if it already exists"
   ]
  },
  {
   "cell_type": "code",
   "execution_count": 45,
   "metadata": {},
   "outputs": [
    {
     "data": {
      "text/plain": [
       "<sqlite3.Cursor at 0x10887f180>"
      ]
     },
     "execution_count": 45,
     "metadata": {},
     "output_type": "execute_result"
    }
   ],
   "source": [
    "# Drop the table, if it already exists in examples.db \n",
    "cursor.execute(\"DROP TABLE celebs_born;\")"
   ]
  },
  {
   "cell_type": "code",
   "execution_count": 46,
   "metadata": {},
   "outputs": [
    {
     "data": {
      "text/plain": [
       "<sqlite3.Cursor at 0x10887f180>"
      ]
     },
     "execution_count": 46,
     "metadata": {},
     "output_type": "execute_result"
    }
   ],
   "source": [
    "sql_command = \"\"\"\n",
    "CREATE TABLE celebs_born ( \n",
    "id INTEGER PRIMARY KEY, \n",
    "name VARCHAR(10), \n",
    "birthdate VARCHAR (10) );\"\"\"\n",
    "\n",
    "cursor.execute(sql_command)"
   ]
  },
  {
   "cell_type": "code",
   "execution_count": 47,
   "metadata": {},
   "outputs": [],
   "source": [
    "celebs_data = [ (1, 'Hope Sandoval', '1966-06-24'),\n",
    "               (2, 'Eddy Vedder', '1977-11-11'),\n",
    "               (3, 'Lady Gaga', '1986-03-28') ]\n",
    "               \n",
    "for p in celebs_data:\n",
    "    format_str = \"\"\"INSERT INTO celebs_born (id, name, birthdate)\n",
    "    VALUES (NULL, '{name}', '{birthdate}' );\"\"\"\n",
    "\n",
    "    sql_command = format_str.format(id=p[0],name=p[1],birthdate=p[2])\n",
    "    cursor.execute(sql_command)"
   ]
  },
  {
   "cell_type": "code",
   "execution_count": 48,
   "metadata": {},
   "outputs": [
    {
     "name": "stdout",
     "output_type": "stream",
     "text": [
      "fetchall:\n",
      "(1, 'Hope Sandoval', '1966-06-24')\n",
      "(2, 'Eddy Vedder', '1977-11-11')\n",
      "(3, 'Lady Gaga', '1986-03-28')\n"
     ]
    }
   ],
   "source": [
    "cursor.execute(\"SELECT * FROM celebs_born;\")\n",
    "print(\"fetchall:\")\n",
    "result = cursor.fetchall() \n",
    "for r in result:\n",
    "    print(r)"
   ]
  },
  {
   "cell_type": "markdown",
   "metadata": {},
   "source": [
    "# 14.1 Use Boolean operators to compare dates \n",
    "* Query below returns a list of celebrities born before August 17th, 1985, using < and >. \n",
    "\n",
    "`SELECT * FROM celebs_born WHERE birthdate < '1985-08-17';` \n",
    "\n",
    "### Write a query that returns a list of celebrities born after September 1st, 1980:"
   ]
  },
  {
   "cell_type": "code",
   "execution_count": 50,
   "metadata": {},
   "outputs": [
    {
     "name": "stdout",
     "output_type": "stream",
     "text": [
      "(2, 'Eddy Vedder', '1977-11-11')\n",
      "(3, 'Lady Gaga', '1986-03-28')\n"
     ]
    }
   ],
   "source": [
    "cursor.execute(\"SELECT * FROM celebs_born WHERE birthdate > '1975-09-01';\")  \n",
    "result = cursor.fetchall() \n",
    "for r in result:\n",
    "    print(r)"
   ]
  },
  {
   "cell_type": "markdown",
   "metadata": {},
   "source": [
    "# 15. INNER JOINS\n",
    "Use `INNER JOIN ... ON` to put together information stored in different tables.\n",
    "\n",
    "Joining tables gets to the core of SQL functionality, but it can get very complicated. \n",
    "\n",
    "Start with simple INNER JOIN with 3 tables:\n",
    "    * `character`: Each character is a row and is represented by a unique identifier (id), e.g. 1 is Doogie Howser\n",
    "    * `character_tv_show`: For each character, which show is he/she in?\n",
    "    * `character_actor`: For each character, who is the actor?"
   ]
  },
  {
   "cell_type": "code",
   "execution_count": 72,
   "metadata": {},
   "outputs": [
    {
     "data": {
      "text/plain": [
       "<sqlite3.Cursor at 0x10887f180>"
      ]
     },
     "execution_count": 72,
     "metadata": {},
     "output_type": "execute_result"
    }
   ],
   "source": [
    "# Drop the table, if it already exists in examples.db \n",
    "cursor.execute(\"DROP TABLE character;\")"
   ]
  },
  {
   "cell_type": "code",
   "execution_count": 73,
   "metadata": {},
   "outputs": [
    {
     "data": {
      "text/plain": [
       "<sqlite3.Cursor at 0x10887f180>"
      ]
     },
     "execution_count": 73,
     "metadata": {},
     "output_type": "execute_result"
    }
   ],
   "source": [
    "sql_command = \"\"\"\n",
    "CREATE TABLE character ( \n",
    "id INTEGER PRIMARY KEY, \n",
    "name VARCHAR(20) );\"\"\"\n",
    "\n",
    "cursor.execute(sql_command)"
   ]
  },
  {
   "cell_type": "code",
   "execution_count": 74,
   "metadata": {
    "collapsed": true
   },
   "outputs": [],
   "source": [
    "character_data = [ (1, 'Dougie Houser'),\n",
    "               (2, 'Barney Stinson'),\n",
    "               (3, 'Lily Aldrin'),\n",
    "               (4, 'Willow Rosenberg') ]\n",
    "               \n",
    "for p in character_data:\n",
    "    format_str = \"\"\"INSERT INTO character (id, name)\n",
    "    VALUES (NULL, '{name}' );\"\"\"\n",
    "\n",
    "    sql_command = format_str.format(id=p[0],name=p[1])\n",
    "    cursor.execute(sql_command)"
   ]
  },
  {
   "cell_type": "markdown",
   "metadata": {},
   "source": [
    "### Create Table for `character_tv_show`"
   ]
  },
  {
   "cell_type": "code",
   "execution_count": 62,
   "metadata": {},
   "outputs": [
    {
     "data": {
      "text/plain": [
       "<sqlite3.Cursor at 0x10887f180>"
      ]
     },
     "execution_count": 62,
     "metadata": {},
     "output_type": "execute_result"
    }
   ],
   "source": [
    "# Drop the table, if it already exists in examples.db \n",
    "cursor.execute(\"DROP TABLE character_tv_show;\")"
   ]
  },
  {
   "cell_type": "code",
   "execution_count": 63,
   "metadata": {},
   "outputs": [
    {
     "data": {
      "text/plain": [
       "<sqlite3.Cursor at 0x10887f180>"
      ]
     },
     "execution_count": 63,
     "metadata": {},
     "output_type": "execute_result"
    }
   ],
   "source": [
    "sql_command = \"\"\"\n",
    "CREATE TABLE character_tv_show ( \n",
    "id INTEGER PRIMARY KEY, \n",
    "character_id VARCHAR(10), \n",
    "tv_show_name VARCHAR(50) );\"\"\"\n",
    "\n",
    "cursor.execute(sql_command)"
   ]
  },
  {
   "cell_type": "code",
   "execution_count": 64,
   "metadata": {
    "collapsed": true
   },
   "outputs": [],
   "source": [
    "tv_show_data = [ (1, '4', 'Buffy Vampire Slayer'),\n",
    "               (2, '3', 'How I Met Your Mother'),\n",
    "               (3, '2', 'How I Met Your Mother'),\n",
    "               (4, '1', 'Dougie Houser, M.D.')]\n",
    "               \n",
    "for p in tv_show_data:\n",
    "    format_str = \"\"\"INSERT INTO character_tv_show (id, character_id, tv_show_name)\n",
    "    VALUES (NULL, '{character_id}', '{tv_show_name}' );\"\"\"\n",
    "\n",
    "    sql_command = format_str.format(id=p[0],character_id=p[1],tv_show_name=p[2])\n",
    "    cursor.execute(sql_command)"
   ]
  },
  {
   "cell_type": "markdown",
   "metadata": {},
   "source": [
    "### Create table for `character_actor`"
   ]
  },
  {
   "cell_type": "code",
   "execution_count": null,
   "metadata": {
    "collapsed": true
   },
   "outputs": [],
   "source": [
    "# Drop the table, if it already exists in examples.db \n",
    "cursor.execute(\"DROP TABLE character_actor;\")"
   ]
  },
  {
   "cell_type": "code",
   "execution_count": 66,
   "metadata": {},
   "outputs": [
    {
     "data": {
      "text/plain": [
       "<sqlite3.Cursor at 0x10887f180>"
      ]
     },
     "execution_count": 66,
     "metadata": {},
     "output_type": "execute_result"
    }
   ],
   "source": [
    "sql_command = \"\"\"\n",
    "CREATE TABLE character_actor ( \n",
    "id INTEGER PRIMARY KEY, \n",
    "character_id VARCHAR(1), \n",
    "actor_name VARCHAR(30) );\"\"\"\n",
    "\n",
    "cursor.execute(sql_command)"
   ]
  },
  {
   "cell_type": "code",
   "execution_count": 69,
   "metadata": {},
   "outputs": [],
   "source": [
    "celebs_data = [ (1, '4', 'Alyson Hannigan'),\n",
    "               (2, '3', 'Alyson Hannigan'),\n",
    "               (3, '2', 'Neil Patrick Harris'),\n",
    "               (4, '1', 'Neil Patrick Harris') ]\n",
    "               \n",
    "for p in celebs_data:\n",
    "    format_str = \"\"\"INSERT INTO character_actor (id, character_id , actor_name)\n",
    "    VALUES (NULL, '{character_id}', '{actor_name}' );\"\"\"\n",
    "\n",
    "    sql_command = format_str.format(id=p[0],character_id=p[1],actor_name=p[2])\n",
    "    cursor.execute(sql_command)"
   ]
  },
  {
   "cell_type": "markdown",
   "metadata": {},
   "source": [
    "## Three Tables\n",
    "- character\n",
    "- character_actor\n",
    "- character_tv_show"
   ]
  },
  {
   "cell_type": "code",
   "execution_count": 75,
   "metadata": {},
   "outputs": [
    {
     "name": "stdout",
     "output_type": "stream",
     "text": [
      "fetchall:\n",
      "(1, 'Dougie Houser')\n",
      "(2, 'Barney Stinson')\n",
      "(3, 'Lily Aldrin')\n",
      "(4, 'Willow Rosenberg')\n"
     ]
    }
   ],
   "source": [
    "cursor.execute(\"SELECT * FROM character;\")\n",
    "print(\"fetchall:\")\n",
    "result = cursor.fetchall() \n",
    "for r in result:\n",
    "    print(r)"
   ]
  },
  {
   "cell_type": "code",
   "execution_count": 70,
   "metadata": {},
   "outputs": [
    {
     "name": "stdout",
     "output_type": "stream",
     "text": [
      "fetchall:\n",
      "(1, '4', 'Alyson Hannigan')\n",
      "(2, '3', 'Alyson Hannigan')\n",
      "(3, '2', 'Neil Patrick Harris')\n",
      "(4, '1', 'Neil Patrick Harris')\n"
     ]
    }
   ],
   "source": [
    "cursor.execute(\"SELECT * FROM character_actor;\")\n",
    "print(\"fetchall:\")\n",
    "result = cursor.fetchall() \n",
    "for r in result:\n",
    "    print(r)"
   ]
  },
  {
   "cell_type": "code",
   "execution_count": 65,
   "metadata": {},
   "outputs": [
    {
     "name": "stdout",
     "output_type": "stream",
     "text": [
      "fetchall:\n",
      "(1, '4', 'Buffy Vampire Slayer')\n",
      "(2, '3', 'How I Met Your Mother')\n",
      "(3, '2', 'How I Met Your Mother')\n",
      "(4, '1', 'Dougie Houser, M.D.')\n"
     ]
    }
   ],
   "source": [
    "cursor.execute(\"SELECT * FROM character_tv_show;\")\n",
    "print(\"fetchall:\")\n",
    "result = cursor.fetchall() \n",
    "for r in result:\n",
    "    print(r)"
   ]
  },
  {
   "cell_type": "markdown",
   "metadata": {},
   "source": [
    "## 15.1 Inner joins\n",
    "See that in `character_tv_show`, instead of storing both the character and TV show names (e.g. Willow Rosenberg and Buffy the Vampire Slayer), it stores the character_id as a substitute for the character name. \n",
    "\n",
    "### The character_id refers to the matching id row from the character table. \n",
    "* This is done so data is not duplicated. \n",
    "* If the name of a character were to change, you would only have to change the name of the character in one row. \n",
    "* This allows us to \"join\" the tables together \"on\" that reference/common column. \n",
    "\n",
    "### The following query returns each character name with his/her TV show name:\n",
    "* Puts together every row in character with the corresponding row in character_tv_show, or vice versa.\n",
    "```\n",
    "SELECT character.name, character_tv_show.tv_show_name\n",
    "FROM character \n",
    "INNER JOIN character_tv_show\n",
    "ON character.id = character_tv_show.character_id;\n",
    "```\n",
    " \n",
    "\n",
    "### Note: Use the syntax `table_name.column_name`. \n",
    "- If we only used `column_name`, SQL might incorrectly assume which table it is coming from.\n",
    "- The example query above is written over multiple lines for readability, but that does not affect the query. "
   ]
  },
  {
   "cell_type": "code",
   "execution_count": 76,
   "metadata": {},
   "outputs": [
    {
     "name": "stdout",
     "output_type": "stream",
     "text": [
      "fetchall:\n",
      "('Willow Rosenberg', 'Buffy Vampire Slayer')\n",
      "('Lily Aldrin', 'How I Met Your Mother')\n",
      "('Barney Stinson', 'How I Met Your Mother')\n",
      "('Dougie Houser', 'Dougie Houser, M.D.')\n"
     ]
    }
   ],
   "source": [
    "cursor.execute(\"\"\"SELECT character.name, character_tv_show.tv_show_name \n",
    "               FROM character INNER JOIN character_tv_show\n",
    "               ON character.id = character_tv_show.character_id;\"\"\")\n",
    "print(\"fetchall:\")\n",
    "result = cursor.fetchall() \n",
    "for r in result:\n",
    "    print(r)"
   ]
  },
  {
   "cell_type": "markdown",
   "metadata": {},
   "source": [
    "### Write a query for an inner join to pair each character name with the actor who plays them: \n",
    "* Select the columns: character.name, character_actor.actor_name"
   ]
  },
  {
   "cell_type": "code",
   "execution_count": 77,
   "metadata": {},
   "outputs": [
    {
     "name": "stdout",
     "output_type": "stream",
     "text": [
      "fetchall:\n",
      "('Willow Rosenberg', 'Alyson Hannigan')\n",
      "('Lily Aldrin', 'Alyson Hannigan')\n",
      "('Barney Stinson', 'Neil Patrick Harris')\n",
      "('Dougie Houser', 'Neil Patrick Harris')\n"
     ]
    }
   ],
   "source": [
    "cursor.execute(\"\"\"SELECT character.name, character_actor.actor_name FROM character \n",
    "                INNER JOIN character_actor ON character.id = character_actor.character_id;\"\"\")\n",
    "print(\"fetchall:\")\n",
    "result = cursor.fetchall() \n",
    "for r in result:\n",
    "    print(r)"
   ]
  },
  {
   "cell_type": "markdown",
   "metadata": {},
   "source": [
    "# 16. MULTIPLE JOINS \t\t\n",
    "https://www.sqlteaching.com/#!multiple_joins\t\n",
    "\n",
    "In the previous example the TV show names and actor names were duplicated. To not duplicate any names, we need to have more tables, and use multiple joins. In this case, we have tables to represent objects of entities (e.g., 'characters', 'TV shows', 'actors'), and tables representing the relationship between entities (`character_tv_show`, `character_actor`). \n",
    "\n",
    "```\n",
    "character\n",
    "id\tname\n",
    "1\tDoogie Howser\n",
    "2\tBarney Stinson\n",
    "3\tLily Aldrin\n",
    "4\tWillow Rosenberg\n",
    "\n",
    "tv_show\n",
    "id\tname\n",
    "1\tBuffy the Vampire Slayer\n",
    "2\tHow I Met Your Mother\n",
    "3\tDoogie Howser, M.D.\n",
    "\n",
    "character_tv_show\n",
    "id\tcharacter_id\ttv_show_id\n",
    "1\t1\t            3\n",
    "2\t2\t            2\n",
    "3\t3\t            2\n",
    "4\t4\t            1\n",
    "```\n",
    "\n",
    "This is a flexible way of capturing the relationship between different entities, as some TV show characters might be in multiple shows, and some actors are known for playing multiple characters. The following query returns each character name with his/her TV show name, we can write\n",
    "\n",
    "```\n",
    "SELECT character.name, tv_show.name FROM character \n",
    "INNER JOIN character_tv_show ON character.id = character_tv_show.character_id\n",
    "INNER JOIN tv_show ",
    "ON character_tv_show.tv_show_id = tv_show.id;\n",
    "```"
   ]
  },
  {
   "cell_type": "markdown",
   "metadata": {},
   "source": [
    "### Use two joins to pair each character name with the actor who plays them \n",
    "Select the columns: character.name, actor.name\n",
    "\n",
    "```\n",
    "character   \n",
    "id   name\n",
    "1    Doogie Howser\n",
    "2    Barney Stinson\n",
    "3    Lily Aldrin\n",
    "4    Willow Rosenberg\n",
    "\n",
    "actor\n",
    "id   name\n",
    "1    Alyson Hannigan\n",
    "2    Neil Patrick Harris\n",
    "\n",
    "character_actor\n",
    "id   character_id  actor_id\n",
    "1    1             2\n",
    "2    2             2\n",
    "3    3             1\n",
    "4    4             1\n",
    "\n",
    "SELECT character.name, actor.name \n",
    "FROM character\n",
    "INNER JOIN character_actor \n",
    "ON character.id = character_actor.character_id\n",
    "INNER JOIN actor\n",
    "ON character_actor.actor_id = actor.id;\n",
    "\n",
    "Result: \n",
    "Character        Actor\n",
    "name             name\n",
    "Doogie Howser    Neil Patrick Harris\n",
    "Barney Stinson   Neil Patrick Harris\n",
    "Lily Aldrin      Alyson Hannigan\n",
    "Willow Rosenberg Alyson Hannigan\n",
    "```\n"
   ]
  },
  {
   "cell_type": "code",
   "execution_count": null,
   "metadata": {
    "collapsed": true
   },
   "outputs": [],
   "source": []
  },
  {
   "cell_type": "code",
   "execution_count": null,
   "metadata": {
    "collapsed": true
   },
   "outputs": [],
   "source": []
  },
  {
   "cell_type": "code",
   "execution_count": null,
   "metadata": {
    "collapsed": true
   },
   "outputs": [],
   "source": []
  },
  {
   "cell_type": "code",
   "execution_count": null,
   "metadata": {
    "collapsed": true
   },
   "outputs": [],
   "source": []
  },
  {
   "cell_type": "code",
   "execution_count": null,
   "metadata": {
    "collapsed": true
   },
   "outputs": [],
   "source": []
  },
  {
   "cell_type": "code",
   "execution_count": null,
   "metadata": {
    "collapsed": true
   },
   "outputs": [],
   "source": []
  },
  {
   "cell_type": "code",
   "execution_count": null,
   "metadata": {
    "collapsed": true
   },
   "outputs": [],
   "source": []
  },
  {
   "cell_type": "code",
   "execution_count": null,
   "metadata": {
    "collapsed": true
   },
   "outputs": [],
   "source": [
    "cursor.execute(\"\"\"SELECT character.name, character_tv_show.tv_show_name \n",
    "               FROM character INNER JOIN character_tv_show\n",
    "               ON character.id = character_tv_show.character_id;\"\"\")\n",
    "print(\"fetchall:\")\n",
    "result = cursor.fetchall() \n",
    "for r in result:\n",
    "    print(r)"
   ]
  },
  {
   "cell_type": "code",
   "execution_count": null,
   "metadata": {
    "collapsed": true
   },
   "outputs": [],
   "source": []
  },
  {
   "cell_type": "code",
   "execution_count": null,
   "metadata": {
    "collapsed": true
   },
   "outputs": [],
   "source": [
    "cursor.execute(\"\"\"SELECT character.name, character_tv_show.tv_show_name \n",
    "               FROM character INNER JOIN character_tv_show\n",
    "               ON character.id = character_tv_show.character_id;\"\"\")\n",
    "print(\"fetchall:\")\n",
    "result = cursor.fetchall() \n",
    "for r in result:\n",
    "    print(r)"
   ]
  },
  {
   "cell_type": "code",
   "execution_count": null,
   "metadata": {
    "collapsed": true
   },
   "outputs": [],
   "source": []
  },
  {
   "cell_type": "code",
   "execution_count": null,
   "metadata": {
    "collapsed": true
   },
   "outputs": [],
   "source": [
    "cursor.execute(\"\"\"SELECT character.name, character_tv_show.tv_show_name \n",
    "               FROM character INNER JOIN character_tv_show\n",
    "               ON character.id = character_tv_show.character_id;\"\"\")\n",
    "print(\"fetchall:\")\n",
    "result = cursor.fetchall() \n",
    "for r in result:\n",
    "    print(r)"
   ]
  },
  {
   "cell_type": "code",
   "execution_count": null,
   "metadata": {
    "collapsed": true
   },
   "outputs": [],
   "source": []
  },
  {
   "cell_type": "code",
   "execution_count": null,
   "metadata": {
    "collapsed": true
   },
   "outputs": [],
   "source": [
    "cursor.execute(\"SELECT * FROM family_members;\")  \n",
    "result = cursor.fetchall() \n",
    "for r in result:\n",
    "    print(r)"
   ]
  },
  {
   "cell_type": "code",
   "execution_count": null,
   "metadata": {
    "collapsed": true
   },
   "outputs": [],
   "source": []
  },
  {
   "cell_type": "code",
   "execution_count": null,
   "metadata": {
    "collapsed": true
   },
   "outputs": [],
   "source": [
    "cursor.execute(\"SELECT * FROM family_members;\")  \n",
    "result = cursor.fetchall() \n",
    "for r in result:\n",
    "    print(r)"
   ]
  },
  {
   "cell_type": "code",
   "execution_count": null,
   "metadata": {
    "collapsed": true
   },
   "outputs": [],
   "source": []
  },
  {
   "cell_type": "code",
   "execution_count": null,
   "metadata": {
    "collapsed": true
   },
   "outputs": [],
   "source": [
    "cursor.execute(\"SELECT * FROM family_members;\")  \n",
    "result = cursor.fetchall() \n",
    "for r in result:\n",
    "    print(r)"
   ]
  },
  {
   "cell_type": "code",
   "execution_count": null,
   "metadata": {
    "collapsed": true
   },
   "outputs": [],
   "source": []
  },
  {
   "cell_type": "code",
   "execution_count": null,
   "metadata": {
    "collapsed": true
   },
   "outputs": [],
   "source": [
    "cursor.execute(\"SELECT * FROM family_members;\")  \n",
    "result = cursor.fetchall() \n",
    "for r in result:\n",
    "    print(r)"
   ]
  },
  {
   "cell_type": "code",
   "execution_count": null,
   "metadata": {
    "collapsed": true
   },
   "outputs": [],
   "source": []
  },
  {
   "cell_type": "code",
   "execution_count": null,
   "metadata": {
    "collapsed": true
   },
   "outputs": [],
   "source": []
  },
  {
   "cell_type": "code",
   "execution_count": null,
   "metadata": {
    "collapsed": true
   },
   "outputs": [],
   "source": []
  },
  {
   "cell_type": "code",
   "execution_count": null,
   "metadata": {
    "collapsed": true
   },
   "outputs": [],
   "source": []
  },
  {
   "cell_type": "code",
   "execution_count": null,
   "metadata": {
    "collapsed": true
   },
   "outputs": [],
   "source": [
    "### Close the SQLite connection at end of the session\n",
    "connection.close()"
   ]
  },
  {
   "cell_type": "code",
   "execution_count": null,
   "metadata": {
    "collapsed": true
   },
   "outputs": [],
   "source": []
  },
  {
   "cell_type": "code",
   "execution_count": null,
   "metadata": {
    "collapsed": true
   },
   "outputs": [],
   "source": []
  },
  {
   "cell_type": "markdown",
   "metadata": {},
   "source": [
    "<br>\n",
    "## Using MySQL in Python\n",
    "* MySQLdb does not support Python 3 but it is not the only MySQL driver for Python: https://stackoverflow.com/questions/23376103/python-3-4-0-with-mysql-database\n",
    "* `PyMySQL` is a pure python MySQL driver, which means it is slower, but it does not require a compiled C component or MySQL libraries and header files to be installed on client machines. It has Python 3 support.\n",
    "* Install pymysql in the terminal shell: `python3 -m pip install pymysql`\n",
    "\n",
    "import pymysql\n",
    "import pymysql.cursors\n",
    "\n",
    "# Connect to database\n",
    "connection = pmsql.connect (host='localhost',\n",
    "                            user='root',\n",
    "                            db = 'examples')\n",
    "\n",
    "cursor = connection.cursor()\n",
    "cursor.execute (\"SELECT*FROM examples;\")\n",
    "\n",
    "print(\"cursor.description\", cursor.description)\n",
    "print()\n",
    "cursor.close()\n",
    "\n",
    "#connection.close()"
   ]
  }
 ],
 "metadata": {
  "kernelspec": {
   "display_name": "Python 3",
   "language": "python",
   "name": "python3"
  },
  "language_info": {
   "codemirror_mode": {
    "name": "ipython",
    "version": 3
   },
   "file_extension": ".py",
   "mimetype": "text/x-python",
   "name": "python",
   "nbconvert_exporter": "python",
   "pygments_lexer": "ipython3",
   "version": "3.6.1"
  }
 },
 "nbformat": 4,
 "nbformat_minor": 2
}
