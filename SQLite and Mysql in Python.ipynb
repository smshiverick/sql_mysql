{
 "cells": [
  {
   "cell_type": "markdown",
   "metadata": {},
   "source": [
    "# Installing and Using SQL in Python\n",
    "https://www.sqlite.org/cli.html\n",
    "https://www.python-course.eu/sql_python.php\n",
    "\n",
    "\n",
    "## Import sqlite and create connection to database\n",
    "* To use a database, first create connection object to represents the database. \n",
    "* The argument of connection (\"examples.db\") functions both as the name of the file, where the data will be stored, and the name of the database. \n",
    "* If a file with this name exists (SQLite database file) it will be opened, but the file does not have to exist.: "
   ]
  },
  {
   "cell_type": "code",
   "execution_count": 2,
   "metadata": {
    "collapsed": true
   },
   "outputs": [],
   "source": [
    "import sqlite3 as sqlt\n",
    "connection = sqlt.connect(\"examples.db\")\n",
    "cursor = connection.cursor()"
   ]
  },
  {
   "cell_type": "markdown",
   "metadata": {},
   "source": [
    "## Call the cursor() method of connection. \n",
    "Generally, a cursor in SQL and databases is a control structure to traverse over the records in a database and returning results. \n",
    "* An arbitrary number of cursors can be created. \n",
    "* The cursor raverses the records from the result set. \n",
    "* SQL command is defined with a triple quoted string in Python:"
   ]
  },
  {
   "cell_type": "code",
   "execution_count": 33,
   "metadata": {},
   "outputs": [
    {
     "data": {
      "text/plain": [
       "<sqlite3.Cursor at 0x10ba9a880>"
      ]
     },
     "execution_count": 33,
     "metadata": {},
     "output_type": "execute_result"
    }
   ],
   "source": [
    "# Drop the table, if it already exists in examples.db \n",
    "cursor.execute(\"\"\"DROP TABLE family_members;\"\"\")"
   ]
  },
  {
   "cell_type": "code",
   "execution_count": 34,
   "metadata": {},
   "outputs": [
    {
     "data": {
      "text/plain": [
       "<sqlite3.Cursor at 0x10ba9a880>"
      ]
     },
     "execution_count": 34,
     "metadata": {},
     "output_type": "execute_result"
    }
   ],
   "source": [
    "sql_command = \"\"\"\n",
    "CREATE TABLE family_members ( \n",
    "id INTEGER PRIMARY KEY, \n",
    "name VARCHAR(10), \n",
    "gender VARCHAR(10), \n",
    "species VARCHAR(10), \n",
    "num_books_read CHAR(3) );\"\"\"\n",
    "\n",
    "cursor.execute(sql_command)"
   ]
  },
  {
   "cell_type": "markdown",
   "metadata": {},
   "source": [
    "# Use 'INSERT' command to populate the table. \n",
    "* Again using the execute method, adding single rows one at a time...\n",
    "* To run the program you will either have to remove the file company.db or uncomment the \"DROP TABLE\" line in the SQL command: "
   ]
  },
  {
   "cell_type": "code",
   "execution_count": 18,
   "metadata": {},
   "outputs": [],
   "source": [
    "sql_command = \"\"\"INSERT INTO family_members (id, name, gender, species, num_books_read)\n",
    "    VALUES (1, 'Dave', 'male', 'human', 200);\"\"\"\n",
    "cursor.execute(sql_command)\n",
    "\n",
    "sql_command = \"\"\"INSERT INTO family_members (id, name, gender, species, num_books_read)\n",
    "    VALUES (2, 'Mary', 'female', 'human', 180);\"\"\"\n",
    "cursor.execute(sql_command)\n",
    "\n",
    "# Run the COMMIT command to save changes:\n",
    "connection.commit()\n",
    "\n",
    "#connection.close()"
   ]
  },
  {
   "cell_type": "markdown",
   "metadata": {},
   "source": [
    "## Use data from dict or list as input to insert statement. \n",
    "* A list with data of persons to be used in the INSERT statement:"
   ]
  },
  {
   "cell_type": "code",
   "execution_count": 35,
   "metadata": {},
   "outputs": [],
   "source": [
    "fam_data = [ (1, 'Dave', 'male', 'human', 200),\n",
    "               (2, 'Mary', 'female', 'human', 180),\n",
    "               (3, 'Pickles', 'male', 'dog', 0) ]\n",
    "               \n",
    "for p in fam_data:\n",
    "    format_str = \"\"\"INSERT INTO family_members (id, name, gender, species, num_books_read)\n",
    "    VALUES (NULL, '{name}', '{gender}', '{species}', '{num_books_read}');\"\"\"\n",
    "\n",
    "    sql_command = format_str.format(id=p[0],name=p[1], gender=p[2], species=p[3],num_books_read=p[4])\n",
    "    cursor.execute(sql_command)"
   ]
  },
  {
   "cell_type": "markdown",
   "metadata": {},
   "source": [
    "## Query sql table, first select all rows, and then select a single row: "
   ]
  },
  {
   "cell_type": "code",
   "execution_count": 36,
   "metadata": {},
   "outputs": [
    {
     "name": "stdout",
     "output_type": "stream",
     "text": [
      "fetchall:\n",
      "(1, 'Dave', 'male', 'human', '200')\n",
      "(2, 'Mary', 'female', 'human', '180')\n",
      "(3, 'Pickles', 'male', 'dog', '0')\n",
      "\n",
      "fetch one:\n",
      "(1, 'Dave', 'male', 'human', '200')\n"
     ]
    }
   ],
   "source": [
    "cursor.execute(\"\"\"SELECT*FROM family_members\"\"\")\n",
    "print(\"fetchall:\")\n",
    "result = cursor.fetchall() \n",
    "for r in result:\n",
    "    print(r)\n",
    "\n",
    "cursor.execute(\"SELECT * FROM family_members\") \n",
    "print(\"\\nfetch one:\")\n",
    "res = cursor.fetchone() \n",
    "print(res)"
   ]
  },
  {
   "cell_type": "code",
   "execution_count": null,
   "metadata": {
    "collapsed": true
   },
   "outputs": [],
   "source": []
  },
  {
   "cell_type": "code",
   "execution_count": null,
   "metadata": {
    "collapsed": true
   },
   "outputs": [],
   "source": []
  },
  {
   "cell_type": "code",
   "execution_count": null,
   "metadata": {
    "collapsed": true
   },
   "outputs": [],
   "source": [
    "## Examples and Exercises from SQL Teaching\n",
    "https://www.sqlteaching.com/#!select"
   ]
  },
  {
   "cell_type": "code",
   "execution_count": null,
   "metadata": {
    "collapsed": true
   },
   "outputs": [],
   "source": []
  },
  {
   "cell_type": "code",
   "execution_count": null,
   "metadata": {
    "collapsed": true
   },
   "outputs": [],
   "source": []
  },
  {
   "cell_type": "code",
   "execution_count": null,
   "metadata": {
    "collapsed": true
   },
   "outputs": [],
   "source": []
  },
  {
   "cell_type": "code",
   "execution_count": null,
   "metadata": {
    "collapsed": true
   },
   "outputs": [],
   "source": []
  },
  {
   "cell_type": "code",
   "execution_count": null,
   "metadata": {
    "collapsed": true
   },
   "outputs": [],
   "source": []
  },
  {
   "cell_type": "code",
   "execution_count": null,
   "metadata": {
    "collapsed": true
   },
   "outputs": [],
   "source": []
  },
  {
   "cell_type": "code",
   "execution_count": null,
   "metadata": {
    "collapsed": true
   },
   "outputs": [],
   "source": []
  },
  {
   "cell_type": "code",
   "execution_count": null,
   "metadata": {
    "collapsed": true
   },
   "outputs": [],
   "source": []
  },
  {
   "cell_type": "code",
   "execution_count": null,
   "metadata": {
    "collapsed": true
   },
   "outputs": [],
   "source": []
  },
  {
   "cell_type": "code",
   "execution_count": null,
   "metadata": {
    "collapsed": true
   },
   "outputs": [],
   "source": []
  }
 ],
 "metadata": {
  "kernelspec": {
   "display_name": "Python 3",
   "language": "python",
   "name": "python3"
  },
  "language_info": {
   "codemirror_mode": {
    "name": "ipython",
    "version": 3
   },
   "file_extension": ".py",
   "mimetype": "text/x-python",
   "name": "python",
   "nbconvert_exporter": "python",
   "pygments_lexer": "ipython3",
   "version": "3.6.1"
  }
 },
 "nbformat": 4,
 "nbformat_minor": 2
}
